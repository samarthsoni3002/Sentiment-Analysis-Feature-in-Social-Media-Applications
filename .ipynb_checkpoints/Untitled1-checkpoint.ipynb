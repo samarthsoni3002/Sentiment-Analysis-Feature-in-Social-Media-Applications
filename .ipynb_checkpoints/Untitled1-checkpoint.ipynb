{
 "cells": [
  {
   "cell_type": "code",
   "execution_count": 119,
   "id": "a2716577",
   "metadata": {},
   "outputs": [],
   "source": [
    "import pandas as pd\n",
    "import numpy as np\n",
    "import tensorflow as tf\n",
    "from tensorflow.keras.preprocessing.text import one_hot\n",
    "import nltk \n",
    "import re\n",
    "from nltk import word_tokenize\n",
    "from nltk.stem import PorterStemmer\n",
    "from nltk.corpus import stopwords\n",
    "from tensorflow.keras.layers import LSTM\n",
    "from tensorflow.keras.layers import Dense\n",
    "from tensorflow.keras.layers import Embedding\n",
    "from tensorflow.keras.preprocessing.sequence import pad_sequences\n",
    "from tensorflow.keras.models import Sequential"
   ]
  },
  {
   "cell_type": "code",
   "execution_count": 2,
   "id": "00bcf4ba",
   "metadata": {},
   "outputs": [],
   "source": [
    "X_tweet = pd.read_csv(\"Dataset/tweets/tweets/tweets_data.txt\",names=[\"messages\"]) \n",
    "y_tweet = pd.read_csv(\"Dataset/tweets/tweets/tweets_label.txt\",names=[\"labels\"])\n",
    "X_facebook = pd.read_csv(\"Dataset/facebook_comments/facebook_comments/fb_data.txt\", sep='\\t',names=[\"messages\"])\n",
    "y_facebook = pd.read_csv(\"Dataset/facebook_comments/facebook_comments/fb_label.txt\",names=[\"labels\"])"
   ]
  },
  {
   "cell_type": "code",
   "execution_count": 3,
   "id": "062532a7",
   "metadata": {},
   "outputs": [],
   "source": [
    "X = pd.concat([X_tweet,X_facebook])\n",
    "y = pd.concat([y_tweet,y_facebook])"
   ]
  },
  {
   "cell_type": "code",
   "execution_count": 4,
   "id": "5377296e",
   "metadata": {},
   "outputs": [
    {
     "data": {
      "text/html": [
       "<div>\n",
       "<style scoped>\n",
       "    .dataframe tbody tr th:only-of-type {\n",
       "        vertical-align: middle;\n",
       "    }\n",
       "\n",
       "    .dataframe tbody tr th {\n",
       "        vertical-align: top;\n",
       "    }\n",
       "\n",
       "    .dataframe thead th {\n",
       "        text-align: right;\n",
       "    }\n",
       "</style>\n",
       "<table border=\"1\" class=\"dataframe\">\n",
       "  <thead>\n",
       "    <tr style=\"text-align: right;\">\n",
       "      <th></th>\n",
       "      <th>messages</th>\n",
       "    </tr>\n",
       "  </thead>\n",
       "  <tbody>\n",
       "    <tr>\n",
       "      <th>0</th>\n",
       "      <td>The NBC Commissary has @CokeZero on fountain. ...</td>\n",
       "    </tr>\n",
       "    <tr>\n",
       "      <th>1</th>\n",
       "      <td>@cokezero vanilla is really good with fish tacos.</td>\n",
       "    </tr>\n",
       "    <tr>\n",
       "      <th>2</th>\n",
       "      <td>just drinkin some @CokeZero and listening to @...</td>\n",
       "    </tr>\n",
       "    <tr>\n",
       "      <th>3</th>\n",
       "      <td>@CokeZero just incredible taste! it is hard to...</td>\n",
       "    </tr>\n",
       "    <tr>\n",
       "      <th>4</th>\n",
       "      <td>@cokezero If this doesn't make you want a Vani...</td>\n",
       "    </tr>\n",
       "  </tbody>\n",
       "</table>\n",
       "</div>"
      ],
      "text/plain": [
       "                                            messages\n",
       "0  The NBC Commissary has @CokeZero on fountain. ...\n",
       "1  @cokezero vanilla is really good with fish tacos.\n",
       "2  just drinkin some @CokeZero and listening to @...\n",
       "3  @CokeZero just incredible taste! it is hard to...\n",
       "4  @cokezero If this doesn't make you want a Vani..."
      ]
     },
     "execution_count": 4,
     "metadata": {},
     "output_type": "execute_result"
    }
   ],
   "source": [
    "X.head()"
   ]
  },
  {
   "cell_type": "code",
   "execution_count": 5,
   "id": "b8b08830",
   "metadata": {},
   "outputs": [
    {
     "data": {
      "text/html": [
       "<div>\n",
       "<style scoped>\n",
       "    .dataframe tbody tr th:only-of-type {\n",
       "        vertical-align: middle;\n",
       "    }\n",
       "\n",
       "    .dataframe tbody tr th {\n",
       "        vertical-align: top;\n",
       "    }\n",
       "\n",
       "    .dataframe thead th {\n",
       "        text-align: right;\n",
       "    }\n",
       "</style>\n",
       "<table border=\"1\" class=\"dataframe\">\n",
       "  <thead>\n",
       "    <tr style=\"text-align: right;\">\n",
       "      <th></th>\n",
       "      <th>labels</th>\n",
       "    </tr>\n",
       "  </thead>\n",
       "  <tbody>\n",
       "    <tr>\n",
       "      <th>0</th>\n",
       "      <td>P</td>\n",
       "    </tr>\n",
       "    <tr>\n",
       "      <th>1</th>\n",
       "      <td>P</td>\n",
       "    </tr>\n",
       "    <tr>\n",
       "      <th>2</th>\n",
       "      <td>P</td>\n",
       "    </tr>\n",
       "    <tr>\n",
       "      <th>3</th>\n",
       "      <td>P</td>\n",
       "    </tr>\n",
       "    <tr>\n",
       "      <th>4</th>\n",
       "      <td>P</td>\n",
       "    </tr>\n",
       "  </tbody>\n",
       "</table>\n",
       "</div>"
      ],
      "text/plain": [
       "  labels\n",
       "0      P\n",
       "1      P\n",
       "2      P\n",
       "3      P\n",
       "4      P"
      ]
     },
     "execution_count": 5,
     "metadata": {},
     "output_type": "execute_result"
    }
   ],
   "source": [
    "y.head()"
   ]
  },
  {
   "cell_type": "code",
   "execution_count": 69,
   "id": "5c9a1089",
   "metadata": {},
   "outputs": [],
   "source": [
    "X.reset_index(drop=True, inplace=True)\n",
    "y.reset_index(drop=True, inplace=True)"
   ]
  },
  {
   "cell_type": "markdown",
   "id": "0fbeb8c0",
   "metadata": {},
   "source": [
    "## Text Preprocessing "
   ]
  },
  {
   "cell_type": "code",
   "execution_count": 68,
   "id": "dc4e02f9",
   "metadata": {},
   "outputs": [],
   "source": [
    "ps = PorterStemmer()\n",
    "cleaned_text = []\n",
    "for i in range(0, len(X)):\n",
    "    text = re.sub(\"[^a-zA-Z]\", ' ',str(X[\"messages\"][i]))\n",
    "    text = text.lower()\n",
    "    text = text.split()\n",
    "    text = [ps.stem(word) for word in text if not word in stopwords.words(\"english\")]\n",
    "    text = ' '.join(text)\n",
    "    cleaned_text.append(text)"
   ]
  },
  {
   "cell_type": "code",
   "execution_count": 71,
   "id": "4117bcab",
   "metadata": {},
   "outputs": [],
   "source": [
    "vocab_size = 20000"
   ]
  },
  {
   "cell_type": "code",
   "execution_count": 73,
   "id": "ff7a118a",
   "metadata": {},
   "outputs": [],
   "source": [
    "ohe = [one_hot(i,vocab_size) for i in cleaned_text]"
   ]
  },
  {
   "cell_type": "code",
   "execution_count": 104,
   "id": "1ac621ea",
   "metadata": {},
   "outputs": [],
   "source": [
    "count_array = []\n",
    "count = 0\n",
    "for i in range(len(cleaned_text)):\n",
    "    count = len(cleaned_text[i].split())\n",
    "    count_array.append(count)"
   ]
  },
  {
   "cell_type": "code",
   "execution_count": 106,
   "id": "07ee160b",
   "metadata": {},
   "outputs": [
    {
     "data": {
      "text/plain": [
       "15"
      ]
     },
     "execution_count": 106,
     "metadata": {},
     "output_type": "execute_result"
    }
   ],
   "source": [
    "count_array[10]"
   ]
  },
  {
   "cell_type": "code",
   "execution_count": 107,
   "id": "5debd633",
   "metadata": {},
   "outputs": [
    {
     "data": {
      "text/plain": [
       "'poppa falcon chooseorlos chriseyst clatisc cokezero conceptu real deal atl fan finest poppa falcon ff'"
      ]
     },
     "execution_count": 107,
     "metadata": {},
     "output_type": "execute_result"
    }
   ],
   "source": [
    "cleaned_text[10]"
   ]
  },
  {
   "cell_type": "code",
   "execution_count": 114,
   "id": "f08e3255",
   "metadata": {},
   "outputs": [],
   "source": [
    "sentence_length_padding = 130"
   ]
  },
  {
   "cell_type": "code",
   "execution_count": 115,
   "id": "86dd0c78",
   "metadata": {},
   "outputs": [],
   "source": [
    "embeddings = pad_sequences(ohe,padding=\"pre\",maxlen=sentence_length_padding)"
   ]
  },
  {
   "cell_type": "code",
   "execution_count": 116,
   "id": "217a46aa",
   "metadata": {},
   "outputs": [
    {
     "data": {
      "text/plain": [
       "array([[    0,     0,     0, ..., 16343, 14168, 17973],\n",
       "       [    0,     0,     0, ...,  2772, 10947, 18748],\n",
       "       [    0,     0,     0, ..., 10423, 18617, 18465],\n",
       "       ...,\n",
       "       [    0,     0,     0, ...,  9640,  7228,  8339],\n",
       "       [    0,     0,     0, ..., 16980, 18079, 15183],\n",
       "       [    0,     0,     0, ...,     0,   595, 18420]])"
      ]
     },
     "execution_count": 116,
     "metadata": {},
     "output_type": "execute_result"
    }
   ],
   "source": [
    "embeddings"
   ]
  },
  {
   "cell_type": "code",
   "execution_count": 117,
   "id": "cf549142",
   "metadata": {},
   "outputs": [],
   "source": [
    "dimensions = 40"
   ]
  },
  {
   "cell_type": "code",
   "execution_count": 124,
   "id": "cde228e0",
   "metadata": {},
   "outputs": [
    {
     "name": "stdout",
     "output_type": "stream",
     "text": [
      "Model: \"sequential_4\"\n",
      "_________________________________________________________________\n",
      " Layer (type)                Output Shape              Param #   \n",
      "=================================================================\n",
      " embedding_2 (Embedding)     (None, 130, 40)           800000    \n",
      "                                                                 \n",
      " lstm_2 (LSTM)               (None, 100)               56400     \n",
      "                                                                 \n",
      " dense_1 (Dense)             (None, 3)                 303       \n",
      "                                                                 \n",
      "=================================================================\n",
      "Total params: 856703 (3.27 MB)\n",
      "Trainable params: 856703 (3.27 MB)\n",
      "Non-trainable params: 0 (0.00 Byte)\n",
      "_________________________________________________________________\n"
     ]
    }
   ],
   "source": [
    "model = Sequential()\n",
    "model.add(Embedding(vocab_size,dimensions,input_length=sentence_length_padding))\n",
    "model.add(LSTM(100))\n",
    "model.add(Dense(3,activation=\"softmax\"))\n",
    "model.compile(loss=\"binary_crossentropy\",optimizer=\"adam\",metrics=[\"accuracy\"])\n",
    "model.summary()"
   ]
  },
  {
   "cell_type": "code",
   "execution_count": null,
   "id": "69baae2c",
   "metadata": {},
   "outputs": [],
   "source": []
  }
 ],
 "metadata": {
  "kernelspec": {
   "display_name": "Python 3 (ipykernel)",
   "language": "python",
   "name": "python3"
  },
  "language_info": {
   "codemirror_mode": {
    "name": "ipython",
    "version": 3
   },
   "file_extension": ".py",
   "mimetype": "text/x-python",
   "name": "python",
   "nbconvert_exporter": "python",
   "pygments_lexer": "ipython3",
   "version": "3.11.4"
  }
 },
 "nbformat": 4,
 "nbformat_minor": 5
}
